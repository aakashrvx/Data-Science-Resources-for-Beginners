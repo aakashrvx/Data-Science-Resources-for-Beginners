{
  "nbformat": 4,
  "nbformat_minor": 0,
  "metadata": {
    "colab": {
      "provenance": [],
      "include_colab_link": true
    },
    "kernelspec": {
      "name": "python3",
      "display_name": "Python 3"
    }
  },
  "cells": [
    {
      "cell_type": "markdown",
      "metadata": {
        "id": "view-in-github",
        "colab_type": "text"
      },
      "source": [
        "<a href=\"https://colab.research.google.com/github/aakashrvx/Data-Science-Resources-for-Beginners/blob/main/Naive_Bayes_Classifier.ipynb\" target=\"_parent\"><img src=\"https://colab.research.google.com/assets/colab-badge.svg\" alt=\"Open In Colab\"/></a>"
      ]
    },
    {
      "cell_type": "markdown",
      "metadata": {
        "id": "23O4QyOa8e7w"
      },
      "source": [
        "# Spam Detection Using Naives Bayes Classification"
      ]
    },
    {
      "cell_type": "markdown",
      "metadata": {
        "id": "lt6PfTivCpOf"
      },
      "source": [
        "## Use of Bayes Theorem in Spam Classification"
      ]
    },
    {
      "cell_type": "markdown",
      "metadata": {
        "id": "WyQNWwn5Cvqy"
      },
      "source": [
        "$$ P(spam|email) = \\cfrac {P(spam) \\times P(email|spam)} {P(email)} = \\cfrac {P(spam) \\times P(word1, word2, word3 ... wordn|spam)} {P(email)}$$\n",
        "$$ = \\cfrac {P(spam) \\times P(word1, word2, word3 ... wordn|spam)} {P(email)}$$\n",
        "## Assuming feature independence,\n",
        "$$ = \\cfrac {P(spam) \\times P(word1|spam) \\times P(word2|spam) \\times P(word3|spam) ... P(wordn|spam)} {P(email)}$$\n"
      ]
    },
    {
      "cell_type": "markdown",
      "metadata": {
        "id": "ivfp1LB59sQ3"
      },
      "source": [
        "## Imports\n"
      ]
    },
    {
      "cell_type": "code",
      "metadata": {
        "id": "-CHsq6QB9vzB"
      },
      "source": [
        "# import required libraries\n",
        "import matplotlib.pyplot as plt # plotting\n",
        "import nltk # for natural language processing tasks\n",
        "import numpy as np # numerical computing library\n",
        "import pandas as pd # for data visualization, preprocessing and wrangling\n",
        "import seaborn as sns # for graphing and visualization\n",
        "\n",
        "%matplotlib inline"
      ],
      "execution_count": null,
      "outputs": []
    },
    {
      "cell_type": "code",
      "metadata": {
        "id": "SjFVsgJ99x-5"
      },
      "source": [
        "# import various functions and classes of sklearn for our propose\n",
        "from sklearn.feature_extraction.text import CountVectorizer\n",
        "from sklearn.metrics import roc_auc_score, roc_curve, confusion_matrix, precision_score, recall_score\n",
        "from sklearn.model_selection import train_test_split\n",
        "from sklearn.naive_bayes import MultinomialNB\n",
        "from sklearn.utils.multiclass import unique_labels"
      ],
      "execution_count": null,
      "outputs": []
    },
    {
      "cell_type": "markdown",
      "metadata": {
        "id": "8aT-XMw_90-P"
      },
      "source": [
        "## Load Data"
      ]
    },
    {
      "cell_type": "code",
      "metadata": {
        "id": "EFRQ1EUF95t7",
        "colab": {
          "base_uri": "https://localhost:8080/",
          "height": 376
        },
        "outputId": "20034ab3-2b92-42e0-fab3-eeaf640df700"
      },
      "source": [
        "# load training data\n",
        "# data is obtained from kaggle\n",
        "# kaggla dataset link: https://www.kaggle.com/uciml/sms-spam-collection-dataset\n",
        "data = pd.read_csv('https://raw.githubusercontent.com/AiDevNepal/ai-saturdays-workshop-8/master/data/spam.csv')\n",
        "\n",
        "data['target'] = np.where(data['target']=='spam',1, 0)\n",
        "print('No of rows:', len(data))\n",
        "data.head(10)"
      ],
      "execution_count": null,
      "outputs": [
        {
          "output_type": "stream",
          "text": [
            "No of rows: 5572\n"
          ],
          "name": "stdout"
        },
        {
          "output_type": "execute_result",
          "data": {
            "text/html": [
              "<div>\n",
              "<style scoped>\n",
              "    .dataframe tbody tr th:only-of-type {\n",
              "        vertical-align: middle;\n",
              "    }\n",
              "\n",
              "    .dataframe tbody tr th {\n",
              "        vertical-align: top;\n",
              "    }\n",
              "\n",
              "    .dataframe thead th {\n",
              "        text-align: right;\n",
              "    }\n",
              "</style>\n",
              "<table border=\"1\" class=\"dataframe\">\n",
              "  <thead>\n",
              "    <tr style=\"text-align: right;\">\n",
              "      <th></th>\n",
              "      <th>text</th>\n",
              "      <th>target</th>\n",
              "    </tr>\n",
              "  </thead>\n",
              "  <tbody>\n",
              "    <tr>\n",
              "      <th>0</th>\n",
              "      <td>Go until jurong point, crazy.. Available only ...</td>\n",
              "      <td>0</td>\n",
              "    </tr>\n",
              "    <tr>\n",
              "      <th>1</th>\n",
              "      <td>Ok lar... Joking wif u oni...</td>\n",
              "      <td>0</td>\n",
              "    </tr>\n",
              "    <tr>\n",
              "      <th>2</th>\n",
              "      <td>Free entry in 2 a wkly comp to win FA Cup fina...</td>\n",
              "      <td>1</td>\n",
              "    </tr>\n",
              "    <tr>\n",
              "      <th>3</th>\n",
              "      <td>U dun say so early hor... U c already then say...</td>\n",
              "      <td>0</td>\n",
              "    </tr>\n",
              "    <tr>\n",
              "      <th>4</th>\n",
              "      <td>Nah I don't think he goes to usf, he lives aro...</td>\n",
              "      <td>0</td>\n",
              "    </tr>\n",
              "    <tr>\n",
              "      <th>5</th>\n",
              "      <td>FreeMsg Hey there darling it's been 3 week's n...</td>\n",
              "      <td>1</td>\n",
              "    </tr>\n",
              "    <tr>\n",
              "      <th>6</th>\n",
              "      <td>Even my brother is not like to speak with me. ...</td>\n",
              "      <td>0</td>\n",
              "    </tr>\n",
              "    <tr>\n",
              "      <th>7</th>\n",
              "      <td>As per your request 'Melle Melle (Oru Minnamin...</td>\n",
              "      <td>0</td>\n",
              "    </tr>\n",
              "    <tr>\n",
              "      <th>8</th>\n",
              "      <td>WINNER!! As a valued network customer you have...</td>\n",
              "      <td>1</td>\n",
              "    </tr>\n",
              "    <tr>\n",
              "      <th>9</th>\n",
              "      <td>Had your mobile 11 months or more? U R entitle...</td>\n",
              "      <td>1</td>\n",
              "    </tr>\n",
              "  </tbody>\n",
              "</table>\n",
              "</div>"
            ],
            "text/plain": [
              "                                                text  target\n",
              "0  Go until jurong point, crazy.. Available only ...       0\n",
              "1                      Ok lar... Joking wif u oni...       0\n",
              "2  Free entry in 2 a wkly comp to win FA Cup fina...       1\n",
              "3  U dun say so early hor... U c already then say...       0\n",
              "4  Nah I don't think he goes to usf, he lives aro...       0\n",
              "5  FreeMsg Hey there darling it's been 3 week's n...       1\n",
              "6  Even my brother is not like to speak with me. ...       0\n",
              "7  As per your request 'Melle Melle (Oru Minnamin...       0\n",
              "8  WINNER!! As a valued network customer you have...       1\n",
              "9  Had your mobile 11 months or more? U R entitle...       1"
            ]
          },
          "metadata": {
            "tags": []
          },
          "execution_count": 3
        }
      ]
    },
    {
      "cell_type": "markdown",
      "metadata": {
        "id": "T3kE49KC97wY"
      },
      "source": [
        "## Peek into Spam Messages and Non-spam Message"
      ]
    },
    {
      "cell_type": "code",
      "metadata": {
        "id": "VA3ykjeq9-4N",
        "colab": {
          "base_uri": "https://localhost:8080/",
          "height": 359
        },
        "outputId": "e9c5b723-87bd-4f91-85bb-55856c37705f"
      },
      "source": [
        "data[data['target'] == 0].sample(10)"
      ],
      "execution_count": null,
      "outputs": [
        {
          "output_type": "execute_result",
          "data": {
            "text/html": [
              "<div>\n",
              "<style scoped>\n",
              "    .dataframe tbody tr th:only-of-type {\n",
              "        vertical-align: middle;\n",
              "    }\n",
              "\n",
              "    .dataframe tbody tr th {\n",
              "        vertical-align: top;\n",
              "    }\n",
              "\n",
              "    .dataframe thead th {\n",
              "        text-align: right;\n",
              "    }\n",
              "</style>\n",
              "<table border=\"1\" class=\"dataframe\">\n",
              "  <thead>\n",
              "    <tr style=\"text-align: right;\">\n",
              "      <th></th>\n",
              "      <th>text</th>\n",
              "      <th>target</th>\n",
              "    </tr>\n",
              "  </thead>\n",
              "  <tbody>\n",
              "    <tr>\n",
              "      <th>4184</th>\n",
              "      <td>I'm good. Have you registered to vote?</td>\n",
              "      <td>0</td>\n",
              "    </tr>\n",
              "    <tr>\n",
              "      <th>5414</th>\n",
              "      <td>East coast</td>\n",
              "      <td>0</td>\n",
              "    </tr>\n",
              "    <tr>\n",
              "      <th>1084</th>\n",
              "      <td>For me the love should start with attraction.i...</td>\n",
              "      <td>0</td>\n",
              "    </tr>\n",
              "    <tr>\n",
              "      <th>1447</th>\n",
              "      <td>DonÛ÷t give a flying monkeys wot they think a...</td>\n",
              "      <td>0</td>\n",
              "    </tr>\n",
              "    <tr>\n",
              "      <th>61</th>\n",
              "      <td>Ha ha ha good joke. Girls are situation seekers.</td>\n",
              "      <td>0</td>\n",
              "    </tr>\n",
              "    <tr>\n",
              "      <th>1292</th>\n",
              "      <td>Da my birthdate in certificate is in april but...</td>\n",
              "      <td>0</td>\n",
              "    </tr>\n",
              "    <tr>\n",
              "      <th>4138</th>\n",
              "      <td>Ever green quote ever told by Jerry in cartoon...</td>\n",
              "      <td>0</td>\n",
              "    </tr>\n",
              "    <tr>\n",
              "      <th>5246</th>\n",
              "      <td>Haven't eaten all day. I'm sitting here starin...</td>\n",
              "      <td>0</td>\n",
              "    </tr>\n",
              "    <tr>\n",
              "      <th>829</th>\n",
              "      <td>Thanks for yesterday sir. You have been wonder...</td>\n",
              "      <td>0</td>\n",
              "    </tr>\n",
              "    <tr>\n",
              "      <th>2726</th>\n",
              "      <td>No i am not having not any movies in my laptop</td>\n",
              "      <td>0</td>\n",
              "    </tr>\n",
              "  </tbody>\n",
              "</table>\n",
              "</div>"
            ],
            "text/plain": [
              "                                                   text  target\n",
              "4184             I'm good. Have you registered to vote?       0\n",
              "5414                                         East coast       0\n",
              "1084  For me the love should start with attraction.i...       0\n",
              "1447  DonÛ÷t give a flying monkeys wot they think a...       0\n",
              "61     Ha ha ha good joke. Girls are situation seekers.       0\n",
              "1292  Da my birthdate in certificate is in april but...       0\n",
              "4138  Ever green quote ever told by Jerry in cartoon...       0\n",
              "5246  Haven't eaten all day. I'm sitting here starin...       0\n",
              "829   Thanks for yesterday sir. You have been wonder...       0\n",
              "2726     No i am not having not any movies in my laptop       0"
            ]
          },
          "metadata": {
            "tags": []
          },
          "execution_count": 4
        }
      ]
    },
    {
      "cell_type": "code",
      "metadata": {
        "id": "L8dr2OrW-B4u",
        "colab": {
          "base_uri": "https://localhost:8080/",
          "height": 359
        },
        "outputId": "d3222fc7-2436-4dbf-e090-d36d88f95cd1"
      },
      "source": [
        "data[data['target'] == 1].sample(10)"
      ],
      "execution_count": null,
      "outputs": [
        {
          "output_type": "execute_result",
          "data": {
            "text/html": [
              "<div>\n",
              "<style scoped>\n",
              "    .dataframe tbody tr th:only-of-type {\n",
              "        vertical-align: middle;\n",
              "    }\n",
              "\n",
              "    .dataframe tbody tr th {\n",
              "        vertical-align: top;\n",
              "    }\n",
              "\n",
              "    .dataframe thead th {\n",
              "        text-align: right;\n",
              "    }\n",
              "</style>\n",
              "<table border=\"1\" class=\"dataframe\">\n",
              "  <thead>\n",
              "    <tr style=\"text-align: right;\">\n",
              "      <th></th>\n",
              "      <th>text</th>\n",
              "      <th>target</th>\n",
              "    </tr>\n",
              "  </thead>\n",
              "  <tbody>\n",
              "    <tr>\n",
              "      <th>5058</th>\n",
              "      <td>Free video camera phones with Half Price line ...</td>\n",
              "      <td>1</td>\n",
              "    </tr>\n",
              "    <tr>\n",
              "      <th>4110</th>\n",
              "      <td>URGENT! Your Mobile number has been awarded a ...</td>\n",
              "      <td>1</td>\n",
              "    </tr>\n",
              "    <tr>\n",
              "      <th>2662</th>\n",
              "      <td>Hello darling how are you today? I would love ...</td>\n",
              "      <td>1</td>\n",
              "    </tr>\n",
              "    <tr>\n",
              "      <th>1379</th>\n",
              "      <td>No. 1 Nokia Tone 4 ur mob every week! Just txt...</td>\n",
              "      <td>1</td>\n",
              "    </tr>\n",
              "    <tr>\n",
              "      <th>3860</th>\n",
              "      <td>Free Msg: Ringtone!From: http://tms. widelive....</td>\n",
              "      <td>1</td>\n",
              "    </tr>\n",
              "    <tr>\n",
              "      <th>116</th>\n",
              "      <td>You are a winner U have been specially selecte...</td>\n",
              "      <td>1</td>\n",
              "    </tr>\n",
              "    <tr>\n",
              "      <th>4650</th>\n",
              "      <td>A å£400 XMAS REWARD IS WAITING FOR YOU! Our co...</td>\n",
              "      <td>1</td>\n",
              "    </tr>\n",
              "    <tr>\n",
              "      <th>2846</th>\n",
              "      <td>Free-message: Jamster!Get the crazy frog sound...</td>\n",
              "      <td>1</td>\n",
              "    </tr>\n",
              "    <tr>\n",
              "      <th>4241</th>\n",
              "      <td>Show ur colours! Euro 2004 2-4-1 Offer! Get an...</td>\n",
              "      <td>1</td>\n",
              "    </tr>\n",
              "    <tr>\n",
              "      <th>4832</th>\n",
              "      <td>New Mobiles from 2004, MUST GO! Txt: NOKIA to ...</td>\n",
              "      <td>1</td>\n",
              "    </tr>\n",
              "  </tbody>\n",
              "</table>\n",
              "</div>"
            ],
            "text/plain": [
              "                                                   text  target\n",
              "5058  Free video camera phones with Half Price line ...       1\n",
              "4110  URGENT! Your Mobile number has been awarded a ...       1\n",
              "2662  Hello darling how are you today? I would love ...       1\n",
              "1379  No. 1 Nokia Tone 4 ur mob every week! Just txt...       1\n",
              "3860  Free Msg: Ringtone!From: http://tms. widelive....       1\n",
              "116   You are a winner U have been specially selecte...       1\n",
              "4650  A å£400 XMAS REWARD IS WAITING FOR YOU! Our co...       1\n",
              "2846  Free-message: Jamster!Get the crazy frog sound...       1\n",
              "4241  Show ur colours! Euro 2004 2-4-1 Offer! Get an...       1\n",
              "4832  New Mobiles from 2004, MUST GO! Txt: NOKIA to ...       1"
            ]
          },
          "metadata": {
            "tags": []
          },
          "execution_count": 5
        }
      ]
    },
    {
      "cell_type": "markdown",
      "metadata": {
        "id": "z8YEMhFxsPi2"
      },
      "source": [
        "## Split Data into Training and Test Set"
      ]
    },
    {
      "cell_type": "code",
      "metadata": {
        "id": "NhKy9HH1-EQj",
        "colab": {
          "base_uri": "https://localhost:8080/"
        },
        "outputId": "1636c5cf-df19-4bf1-e5ec-07d3b96e5ea8"
      },
      "source": [
        "# splitting the dataset into training and test data\n",
        "X_train, X_test, Y_train, Y_test = train_test_split(data['text'], \n",
        "                                                    data['target'], \n",
        "                                                    random_state=0)\n",
        "print(\"Training data shape:\", X_train.shape)\n",
        "print(\"Testing data shape:\", X_test.shape)"
      ],
      "execution_count": null,
      "outputs": [
        {
          "output_type": "stream",
          "text": [
            "Training data shape: (4179,)\n",
            "Testing data shape: (1393,)\n"
          ],
          "name": "stdout"
        }
      ]
    },
    {
      "cell_type": "markdown",
      "metadata": {
        "id": "FgdVp6dt-LcX"
      },
      "source": [
        "## Feature Extraction"
      ]
    },
    {
      "cell_type": "code",
      "metadata": {
        "id": "hv8L4Tfo-OzJ",
        "colab": {
          "base_uri": "https://localhost:8080/"
        },
        "outputId": "19158964-6d6c-4b28-a96f-c25b47cae062"
      },
      "source": [
        "# extract features\n",
        "vectorizer = CountVectorizer(ngram_range=(1, 2)).fit(X_train)\n",
        "X_train_vectorized = vectorizer.transform(X_train)\n",
        "X_train_vectorized.toarray().shape"
      ],
      "execution_count": null,
      "outputs": [
        {
          "output_type": "execute_result",
          "data": {
            "text/plain": [
              "(4179, 40704)"
            ]
          },
          "metadata": {
            "tags": []
          },
          "execution_count": 7
        }
      ]
    },
    {
      "cell_type": "code",
      "metadata": {
        "colab": {
          "base_uri": "https://localhost:8080/"
        },
        "id": "LYF8Y470883u",
        "outputId": "02f696d7-7879-481d-f293-967cecc0fe45"
      },
      "source": [
        "type(X_train)"
      ],
      "execution_count": null,
      "outputs": [
        {
          "output_type": "execute_result",
          "data": {
            "text/plain": [
              "pandas.core.series.Series"
            ]
          },
          "metadata": {
            "tags": []
          },
          "execution_count": 10
        }
      ]
    },
    {
      "cell_type": "markdown",
      "metadata": {
        "id": "vPOCeWtK-RIP"
      },
      "source": [
        "## Model Creation"
      ]
    },
    {
      "cell_type": "code",
      "metadata": {
        "id": "EMeU-Av6-7Z3",
        "colab": {
          "base_uri": "https://localhost:8080/",
          "height": 34
        },
        "outputId": "2b2e6f16-1e76-46b4-9fec-c0f98f5618da"
      },
      "source": [
        "# create Naive Bayes model\n",
        "model = MultinomialNB(alpha=0.1)\n",
        "model.fit(X_train_vectorized, Y_train)"
      ],
      "execution_count": null,
      "outputs": [
        {
          "output_type": "execute_result",
          "data": {
            "text/plain": [
              "MultinomialNB(alpha=0.1, class_prior=None, fit_prior=True)"
            ]
          },
          "metadata": {
            "tags": []
          },
          "execution_count": 25
        }
      ]
    },
    {
      "cell_type": "markdown",
      "metadata": {
        "id": "yYUfvxU9--Fw"
      },
      "source": [
        "## Predictions on Test Dataset"
      ]
    },
    {
      "cell_type": "code",
      "metadata": {
        "id": "WbOMnUmc_E4i"
      },
      "source": [
        "# predict y values for test dataset using the model we created\n",
        "predictions = model.predict(vectorizer.transform(X_test))"
      ],
      "execution_count": null,
      "outputs": []
    },
    {
      "cell_type": "markdown",
      "metadata": {
        "id": "3YH12NFU_HvB"
      },
      "source": [
        "## Evaluation"
      ]
    },
    {
      "cell_type": "markdown",
      "metadata": {
        "id": "j0OXBgaN_Ki5"
      },
      "source": [
        "### Accuracy"
      ]
    },
    {
      "cell_type": "code",
      "metadata": {
        "id": "TZ1IBGTO_OJH",
        "colab": {
          "base_uri": "https://localhost:8080/",
          "height": 34
        },
        "outputId": "d1eab02f-980b-4d71-d336-573b45f5cdb6"
      },
      "source": [
        "# see accuracy in the testing set\n",
        "print(\"Accuracy:\", 100 * sum(predictions == Y_test) / len(predictions), '%')"
      ],
      "execution_count": null,
      "outputs": [
        {
          "output_type": "stream",
          "text": [
            "Accuracy: 98.99497487437186 %\n"
          ],
          "name": "stdout"
        }
      ]
    },
    {
      "cell_type": "markdown",
      "metadata": {
        "id": "aZ0kuehN_QbY"
      },
      "source": [
        "## See performance on real life examples"
      ]
    },
    {
      "cell_type": "code",
      "metadata": {
        "id": "AQAWDOqh_UZL",
        "colab": {
          "base_uri": "https://localhost:8080/",
          "height": 34
        },
        "outputId": "36e1d277-684a-47c0-81e4-c8c640b06845"
      },
      "source": [
        "# recent official emails\n",
        "model.predict(vectorizer.transform(\n",
        "    [\n",
        "        \"Dear ABC, Thank you very much for sharing these files with us. I will request your help if need be. Regards, XYZ\",\n",
        "        \"Hi ABC, Thanks for putting together the note on admin code. It’s great first draft! It covers many important aspects I wanted to have a good understanding about!\",\n",
        "        \"Dear ABC, Thanks for the kind reply. The paper seems very interesting, will discuss more when we meet. Referring to our previous conversation, it would be great to know about your work on mapping the administrative units. Furthermore, we would appreciate knowing about the depth of administrative level mapping and the methodology. I have copied ABC DEF (GHI) in our team who is working on a similar task. ABC can reflect on the technical perspectives as the conversation progress. We are looking forward to hearing from you and mutually benefit from the data if your convenience permits. Best regards, XYZ\",\n",
        "        \"Hi ABC and DEF, A gentle reminder that we're very interested in hearing more about your comparisons between the HRSL dataset, WorldPop and other similar datasets. We're planning on doing a small desk review specific to Nepal when we have time and would appreciate the opportunity to start from where you all left off. We are of course more than happy to keep any unpublished research findings you share internal to the World Bank, and share back the results of our review.\",\n",
        "    ])\n",
        "            )              "
      ],
      "execution_count": null,
      "outputs": [
        {
          "output_type": "execute_result",
          "data": {
            "text/plain": [
              "array([0, 0, 0, 0])"
            ]
          },
          "metadata": {
            "tags": []
          },
          "execution_count": 28
        }
      ]
    },
    {
      "cell_type": "code",
      "metadata": {
        "id": "8j4BFNX1_sNR",
        "colab": {
          "base_uri": "https://localhost:8080/",
          "height": 34
        },
        "outputId": "7dcc6ee2-4dd8-45d0-9356-d0a5b250ae38"
      },
      "source": [
        "# recent personal emails\n",
        "model.predict(vectorizer.transform(\n",
        "    [\n",
        "        \"Thank you, ABC. Can you also share your updated GitHub and LinkedIn profile? It helps to have personal/college projects in GitHub with proper documentation. As you are a fresher, employers would be willing to see your personal/college projects. Also, share a competitive programming profile if any.\",\n",
        "        \"Hi ABC, I wish I was in Kathmandu so that we could have in-person discussion. However, will you be available for hangout call sometime next week? Let me know of your availability. We can talk more about your interest and future plans and discuss the options. -XYZ\",\n",
        "        \"Hi y’all, Making quick introductions between python + QGIS Atlas lovers in Kathmandu. ABC, XYZ is looking at your code now and seems pretty comfortable with it. I told him he can write you with any questions — hope that’s OK. I’ll buy you some momos by way of thanks. Best, DEF\",\n",
        "        \"Heyyy hiiiiii... Long time... Remember me? 😊😂 How are you? How's it going there...? What are you upto? :)\",\n",
        "    ])\n",
        "            ) "
      ],
      "execution_count": null,
      "outputs": [
        {
          "output_type": "execute_result",
          "data": {
            "text/plain": [
              "array([0, 0, 0, 0])"
            ]
          },
          "metadata": {
            "tags": []
          },
          "execution_count": 29
        }
      ]
    },
    {
      "cell_type": "code",
      "metadata": {
        "id": "q_OeM9ZT_uG2",
        "colab": {
          "base_uri": "https://localhost:8080/",
          "height": 34
        },
        "outputId": "31bc893f-174e-49fa-8bc2-e8f1dec6a300"
      },
      "source": [
        "# recent personal emails\n",
        "model.predict(vectorizer.transform(\n",
        "    [\n",
        "        \"get free discount in plane tickets\",\n",
        "        \"free recharge card offer\",\n",
        "        \"girls are waiting to chat with you\",\n",
        "        \"1-month unlimited calls offer Activate now\",\n",
        "        \"congratulation, you became today's lucky winner\",\n",
        "        \"Jelie wants your phone number\",\n",
        "        \n",
        "    ])\n",
        "            ) "
      ],
      "execution_count": null,
      "outputs": [
        {
          "output_type": "execute_result",
          "data": {
            "text/plain": [
              "array([1, 1, 1, 1, 1, 1])"
            ]
          },
          "metadata": {
            "tags": []
          },
          "execution_count": 30
        }
      ]
    },
    {
      "cell_type": "code",
      "metadata": {
        "id": "iOgc6hql_7kn",
        "colab": {
          "base_uri": "https://localhost:8080/",
          "height": 34
        },
        "outputId": "0e298e4c-dc9f-4f91-e939-f5e769d3c4a9"
      },
      "source": [
        "# contrasts\n",
        "model.predict(vectorizer.transform(\n",
        "    [\n",
        "        \"Jelie wants your email\",\n",
        "        \"can you please share your phone number?\"\n",
        "    ])\n",
        "            ) "
      ],
      "execution_count": null,
      "outputs": [
        {
          "output_type": "execute_result",
          "data": {
            "text/plain": [
              "array([0, 0])"
            ]
          },
          "metadata": {
            "tags": []
          },
          "execution_count": 31
        }
      ]
    }
  ]
}